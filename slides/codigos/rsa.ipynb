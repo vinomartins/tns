{
 "cells": [
  {
   "cell_type": "markdown",
   "metadata": {
    "slideshow": {
     "slide_type": "slide"
    }
   },
   "source": [
    "# Criptografia RSA"
   ]
  },
  {
   "cell_type": "markdown",
   "metadata": {},
   "source": [
    "### Gerando as chaves\n",
    "\n",
    "Primeiramente, encontramos um par de primos grandes $p,q$ e tomamos $n=pq$. Em seguida calculamos\n",
    "$m = \\varphi(n) = (p-1)(q-1)$. Seguimos para a criação do par de chaves, $k_p$ e $k_r$, como um par de coprimos com $m$ mutuamente inversos módulo $m$, isto é,  tais que $k_pk_r \\equiv 1 \\pmod m$. Fazemos isso tomando inteiros aleatórios $k_p$ -- usando o método `.randint()` -- até encontrar algum que seja coprimo com $m$. Para a outra chave do par, tomamos a inversa de $k_p$ módulo $m$ usando o método `.inverse_mod()`."
   ]
  },
  {
   "cell_type": "code",
   "execution_count": 17,
   "metadata": {
    "slideshow": {
     "slide_type": "slide"
    }
   },
   "outputs": [
    {
     "name": "stdout",
     "output_type": "stream",
     "text": [
      "n = 872791097126792954802093190566640229551741\n",
      "phi(n) = 872791097126792954800223286467131102843900\n",
      "p, q = 971615904072768286271 898288195436358421571\n",
      "(63296516045969260383906176905865001228281, 769549753644610848251115279450131280169821)\n"
     ]
    }
   ],
   "source": [
    "p = random_prime(10^21,lbound = 10^20)\n",
    "q = random_prime(10^21,lbound = 10^20)\n",
    "n = p * q\n",
    "m = euler_phi(n) #(p-1)*(q-1)\n",
    "\n",
    "k_p = m\n",
    "while gcd(m,k_p) != 1:\n",
    "    k_p = Integer(randint(1,m-1))\n",
    "\n",
    "# k_p = e\n",
    "# k_r = d\n",
    "    \n",
    "k_r = Integer(inverse_mod(k_p,m))\n",
    "print(\"n =\", n)\n",
    "print(\"phi(n) =\", m)\n",
    "print(\"p, q =\", p,q)\n",
    "print((k_p,k_r))"
   ]
  },
  {
   "cell_type": "markdown",
   "metadata": {},
   "source": [
    "### Codificando a mensagem\n",
    "A célula a seguir contém as funções que codificam uma mensagem escrita em strings para uma lista de códigos ASCII e converte para um inteiro usando a base 128. Também temos a função que retorna a lista de dígitos de volta para código ASCII."
   ]
  },
  {
   "cell_type": "code",
   "execution_count": 11,
   "metadata": {},
   "outputs": [],
   "source": [
    "def ascii_to_int(msg):\n",
    "    l = []\n",
    "    for i in msg:\n",
    "        l.append(ord(i))\n",
    "    return l\n",
    "\n",
    "def int_to_ascii(cod):\n",
    "    msg = \"\"\n",
    "    for i in cod:\n",
    "        msg+=chr(i)\n",
    "    return msg"
   ]
  },
  {
   "cell_type": "markdown",
   "metadata": {},
   "source": [
    "#### Criando e Codificando a Mensagem\n",
    "Criamos uma mensagem e codificamos usando as funções da célula acima. A mensagem em texto puro é guardada\n",
    "na variável `msg`. Como fazemos a codificação em base $128$, use apenas os caracteres básicos da tabela ASCII (sem acentos, por exemplo)."
   ]
  },
  {
   "cell_type": "code",
   "execution_count": 18,
   "metadata": {},
   "outputs": [
    {
     "name": "stdout",
     "output_type": "stream",
     "text": [
      "Dígitos da msg em ASCII:\t [101, 99, 109, 97, 116, 32, 50, 48, 50, 49]\n",
      "Msg codificada em base 128:\t 455575352138725552613\n"
     ]
    }
   ],
   "source": [
    "msg = \"ecmat 2021\"\n",
    "\n",
    "\n",
    "digitos = ascii_to_int(msg)\n",
    "cod = ZZ(digitos, 128)\n",
    "print(\"Dígitos da msg em ASCII:\\t\", digitos)\n",
    "print(\"Msg codificada em base 128:\\t\" , cod)\n",
    "# print(cod, digitos)\n",
    "# print(int_to_ascii(cod.digits(base=128)))\n",
    "if cod > m:\n",
    "    print(\"MENSAGEM MUITO GRANDE!\")"
   ]
  },
  {
   "cell_type": "markdown",
   "metadata": {},
   "source": [
    "### Cifrando a mensagem\n",
    "Usamos a chave pública $k_p$ para cifrar a mensagem `cod`, efetuando a operação\n",
    " $${\\rm cod}_{\\rm cifrado} = {\\rm cod}^{k_p} \\pmod n.$$\n",
    "O inteiro ${\\rm cod}_{\\rm cifrado}$ é guardado na variável `cod_cifrado`.\n",
    "\n",
    "Usamos a função `power_mod` para fazer a operação ${\\rm cod}^{k_p} \\pmod n$ pois, quando o expoente $k_p$ é muito grande essa potência não pode ser calculada (tente calcular ${\\rm cod}^{k_p}$ na célula em branco no fim do arquivo). Para contornar esse problema o sage usa a [exponenciação binária](https://en.wikipedia.org/wiki/Exponentiation_by_squaring).\n",
    "\n"
   ]
  },
  {
   "cell_type": "code",
   "execution_count": 20,
   "metadata": {},
   "outputs": [
    {
     "name": "stdout",
     "output_type": "stream",
     "text": [
      "Inteiro cifrado:\t 185350053047472833824561522184058427946478\n",
      "Digitos em base 128:\t [110, 107, 112, 32, 19, 102, 40, 37, 119, 20, 113, 4, 63, 21, 23, 94, 97, 99, 2, 17]\n",
      "Mensagem cifrada:\t nkp \u0013f(%w\u0014q\u0004?\u0015\u0017^ac\u0002\u0011\n"
     ]
    }
   ],
   "source": [
    "\n",
    "cod_cifrado = Integer(power_mod(cod, k_p, n)) # equivalente a cod^(k_p) mod n\n",
    "print(\"Inteiro cifrado:\\t\",cod_cifrado)\n",
    "print(\"Digitos em base 128:\\t\", cod_cifrado.digits(base=128))\n",
    "print(\"Mensagem cifrada:\\t\", int_to_ascii(cod_cifrado.digits(base=128)))"
   ]
  },
  {
   "cell_type": "code",
   "execution_count": 21,
   "metadata": {
    "slideshow": {
     "slide_type": "slide"
    }
   },
   "outputs": [
    {
     "name": "stdout",
     "output_type": "stream",
     "text": [
      "Inteiro decifrado:\t 455575352138725552613\n",
      "Digitos em base 128:\t [101, 99, 109, 97, 116, 32, 50, 48, 50, 49]\n",
      "Mensagem decifrada:\t ecmat 2021\n"
     ]
    }
   ],
   "source": [
    "cod_decifrado = Integer(power_mod(cod_cifrado,k_r, n))\n",
    "print(\"Inteiro decifrado:\\t\",cod_decifrado)\n",
    "print(\"Digitos em base 128:\\t\", cod_decifrado.digits(base=128))\n",
    "print(\"Mensagem decifrada:\\t\", int_to_ascii(cod_decifrado.digits(base=128)))\n"
   ]
  },
  {
   "cell_type": "code",
   "execution_count": null,
   "metadata": {},
   "outputs": [],
   "source": []
  }
 ],
 "metadata": {
  "celltoolbar": "Raw Cell Format",
  "kernelspec": {
   "display_name": "SageMath 9.0",
   "language": "sage",
   "name": "sagemath"
  },
  "language_info": {
   "codemirror_mode": {
    "name": "ipython",
    "version": 3
   },
   "file_extension": ".py",
   "mimetype": "text/x-python",
   "name": "python",
   "nbconvert_exporter": "python",
   "pygments_lexer": "ipython3",
   "version": "3.8.10"
  }
 },
 "nbformat": 4,
 "nbformat_minor": 4
}
