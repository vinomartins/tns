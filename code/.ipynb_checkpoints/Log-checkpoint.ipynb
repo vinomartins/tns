{
 "cells": [
  {
   "cell_type": "markdown",
   "metadata": {},
   "source": [
    "# Divisibilidade"
   ]
  },
  {
   "cell_type": "markdown",
   "metadata": {},
   "source": [
    "## Divisão Euclidiana\n",
    " \n",
    "Há algo errado: o resultado coincide com o do sage, com o resto negativo se $b<0$. Verificar!"
   ]
  },
  {
   "cell_type": "code",
   "execution_count": null,
   "metadata": {},
   "outputs": [],
   "source": [
    "def div_euc(a,b): \n",
    "  k = 0 \n",
    "  if a == 0: \n",
    "    return (0,0) \n",
    "  if a > 0 and b > 0: \n",
    "    while a-k*b >= 0: \n",
    "      k += 1 \n",
    "    return (k-1, a-(k-1)*b) \n",
    "  elif a < 0 and b > 0: \n",
    "    while a-k*b < 0: \n",
    "      k -= 1 \n",
    "    return (k, a-k*b) \n",
    "  elif a < 0 and b < 0: \n",
    "    while a-k*b <= 0: \n",
    "      k += 1 \n",
    "    return (k-1, a-(k-1)*b) \n",
    "  else: \n",
    "  #a > 0 e b < 0 \n",
    "    while a-k*b > 0:\n",
    "      k -= 1\n",
    "    return (k, a-k*b) \n",
    "div_euc(10,-3)\n"
   ]
  },
  {
   "cell_type": "markdown",
   "metadata": {},
   "source": [
    "# MDC e Bézout-Bachet"
   ]
  },
  {
   "cell_type": "code",
   "execution_count": 3,
   "metadata": {},
   "outputs": [
    {
     "name": "stdout",
     "output_type": "stream",
     "text": [
      "mdc(342,101)= 1\n"
     ]
    }
   ],
   "source": [
    "a = 342\n",
    "b = 101\n",
    "(q,r) = (b,a.quo_rem(b)[1])\n",
    "while r != 0:\n",
    "  (q,r) = (r,q.quo_rem(r)[1])\n",
    "  \n",
    "print(\"mdc({},{})=\".format(a,b), q)\n",
    "\n"
   ]
  },
  {
   "cell_type": "markdown",
   "metadata": {},
   "source": [
    "### Algoritmo de Euclides estendido\n",
    "\n",
    "**Não está funcionando quando $b\\mid a$**. Tem que testar\n",
    "se o primeiro `r0` é igual a $0$\n"
   ]
  },
  {
   "cell_type": "code",
   "execution_count": 2,
   "metadata": {},
   "outputs": [
    {
     "name": "stdout",
     "output_type": "stream",
     "text": [
      "101 = 2 * 39 + 23\n",
      "39 = 1 * 23 + 16\n",
      "23 = 1 * 16 + 7\n",
      "16 = 2 * 7 + 2\n",
      "7 = 3 * 2 + 1\n",
      "2 = 2 * 1 + 0\n",
      "149 -44 1\n",
      "1\n"
     ]
    }
   ],
   "source": [
    "a = 101\n",
    "b = 342\n",
    "(q0,r0) = a.quo_rem(b)\n",
    "(q1,r1) = b.quo_rem(r0)\n",
    "(x0,y0,x1,y1) = (1,-q0,-q1,1+q0*q1)\n",
    "\n",
    "while r1 > 0:\n",
    "    raux = r0\n",
    "    (q0,r0,q1,r1) = (q1,r1,r0.quo_rem(r1)[0],r0.quo_rem(r1)[1])\n",
    "#     (q1,r1) = raux.quo_rem(r1) \n",
    "    print(raux,'=',q1,'*',r0,'+',r1)\n",
    "    (x0,y0,x1,y1) = (x1,y1,x0-q1*x1,y0-q1*y1)    \n",
    "    \n",
    "print(x0,y0,r0)\n",
    "print(x0*a+y0*b)\n"
   ]
  },
  {
   "cell_type": "markdown",
   "metadata": {},
   "source": [
    "### XGCD com matrizes\n"
   ]
  },
  {
   "cell_type": "code",
   "execution_count": 4,
   "metadata": {},
   "outputs": [
    {
     "name": "stdout",
     "output_type": "stream",
     "text": [
      "[  0   1]\n",
      "[  1  -9]\n",
      "[109  20]\n",
      "\n",
      "[ 1 -5]\n",
      "[-9 46]\n",
      "[20  9]\n",
      "\n",
      "[  -5   11]\n",
      "[  46 -101]\n",
      "[   9    2]\n",
      "\n",
      "[  11  -49]\n",
      "[-101  450]\n",
      "[   2    1]\n",
      "\n",
      "[  -49   109]\n",
      "[  450 -1001]\n",
      "[    1     0]\n",
      "\n",
      "1 -49 450\n",
      "(1, -49, 450)\n",
      "True\n"
     ]
    }
   ],
   "source": [
    "a = 1001\n",
    "b = 109\n",
    "M = Matrix([[1,0],[0,1],[a,b]])\n",
    "while M[2,1] != 0:\n",
    "    q = floor(M[2,0]/M[2,1])\n",
    "    M = M*matrix([[0,1],[1,-q]])\n",
    "    print(M)\n",
    "    input()\n",
    "print(M[2,0],M[0,0],M[1,0])\n",
    "print(xgcd(a,b))\n",
    "print(M[2,0]==M[0,0]*a+b*M[1,0])\n",
    "\n"
   ]
  },
  {
   "cell_type": "markdown",
   "metadata": {},
   "source": [
    "### Frações contínuas\n",
    "\n",
    "A célula a seguir calcula a $n$-ésima convergente $p_n/q_n$ de uma fração contínua\n",
    "usando a recorrência\n",
    "$$\n",
    "  \\begin{cases}\n",
    "    p_n = a_np_{n-1} + p_{n-2} \\\\\n",
    "    q_n = a_nq_{n-1} + q_{n-2} \\\\\n",
    "  \\end{cases}\n",
    "$$"
   ]
  },
  {
   "cell_type": "code",
   "execution_count": 12,
   "metadata": {},
   "outputs": [
    {
     "name": "stdout",
     "output_type": "stream",
     "text": [
      "True\n"
     ]
    }
   ],
   "source": [
    "def f(a,n):\n",
    "    if n == 0:\n",
    "        return (a[0],1)\n",
    "    if n == 1:\n",
    "        return (a[0]*a[1]+1,a[1])\n",
    "    pn = a[n]*f(a,n-1)[0] + f(a,n-2)[0]\n",
    "    qn = a[n]*f(a,n-1)[1] + f(a,n-2)[1]\n",
    "    return (pn,qn)\n",
    "\n",
    "a = continued_fraction(pi)\n",
    "\n",
    "n = 10\n",
    "print(a.convergent(n) == f(a,n)[0]/f(a,n)[1])"
   ]
  },
  {
   "cell_type": "markdown",
   "metadata": {},
   "source": [
    "# Conjectura de Collatz"
   ]
  },
  {
   "cell_type": "code",
   "execution_count": null,
   "metadata": {},
   "outputs": [],
   "source": [
    "def f(n): \n",
    "  if n % 2 == 0: \n",
    "    return n/2 \n",
    "  else: \n",
    "    return 3*n+1 \n",
    "\n",
    "def collatz(k): \n",
    "  i = 0 \n",
    "  if k == 1: \n",
    "      return 1 \n",
    "  k = floor(k) \n",
    "  while f(k) != 1: \n",
    "      k = f(k) \n",
    "      i = i+1 \n",
    "      #print(\"f^i(k) = \", k, \"\\t i = \", i) \n",
    "  return i \n",
    "list_plot([(k,collatz(k)) for k in srange(1,1000)])\n",
    "\n"
   ]
  },
  {
   "cell_type": "markdown",
   "metadata": {},
   "source": [
    "# Fatoração\n",
    "Algoritmo para fatoração de um dado $n$, com e sem recursividade.\n",
    "Note que o algoritmo não é eficiente."
   ]
  },
  {
   "cell_type": "code",
   "execution_count": null,
   "metadata": {},
   "outputs": [],
   "source": [
    "def fat(n, fatores = []):\n",
    "    if n == 1:\n",
    "        return fatores\n",
    "    p = 2\n",
    "    while  not p.divides(n):\n",
    "        p = p.next_prime()\n",
    "    \n",
    "    return fat(n/p,fatores+[p])\n",
    "\n",
    "# print(fat(1729))\n",
    "\n",
    "# fat99 = fat(99)\n",
    "# print(fat99)\n",
    "# print(prod(fat(99)) == 99)\n",
    "\n",
    "def fat_sem_recursao(n):\n",
    "    fatores = []\n",
    "    p = 2\n",
    "    i = 0\n",
    "    while n != 1:\n",
    "        while (not p.divides(n)):\n",
    "            i+=1\n",
    "            print(p,n)\n",
    "            p = p.next_prime()\n",
    "        fatores.append(p)\n",
    "        n = n/p\n",
    "        if p^2 > n:\n",
    "            p = n\n",
    "    print(\"Iter.:\", i)\n",
    "    return fatores\n",
    "\n",
    "n = 7*11*13*19*29*31^3*41\n",
    "ff = fat_sem_recursao(n)\n",
    "print(ff)\n",
    "print('fat ok', prod(ff)== n)"
   ]
  },
  {
   "cell_type": "markdown",
   "metadata": {},
   "source": [
    "## Fibonacci e Cálculo simbólico (Explore!)"
   ]
  },
  {
   "cell_type": "code",
   "execution_count": null,
   "metadata": {},
   "outputs": [],
   "source": [
    "# def fib(n):\n",
    "#   if n == 0 or n == 1:\n",
    "#     return 1\n",
    "#   return fib(n-1) + fib(n-2)\n",
    "# [fib(n) for n in [0..10]]\n",
    "\n",
    "def fib_g(n):\n",
    "    phi = (1+sqrt(5))/2\n",
    "    psi = (1-sqrt(5))/2\n",
    "    return (phi^n - psi^n)/(phi-psi)  \n",
    "print(fib_g(6))\n",
    "show(fib_g(6))\n",
    "print(expand(fib_g(6)))\n"
   ]
  },
  {
   "cell_type": "markdown",
   "metadata": {},
   "source": [
    "### Plotando o gráfico de curvas implicitas"
   ]
  },
  {
   "cell_type": "code",
   "execution_count": null,
   "metadata": {},
   "outputs": [],
   "source": [
    "var('y')\n",
    "c1 = implicit_plot(y^2 == x^3 + x,(-1,1),(-1,1),color='green') \n",
    "c2 = implicit_plot(y == 3*x,(-1,1),(-1,1),color='red')\n",
    "p = point((0,0),size=40,color='black')\n",
    "# show(c1+c2+p)"
   ]
  },
  {
   "cell_type": "markdown",
   "metadata": {},
   "source": [
    "### Resolvendo uma recorrência linear\n",
    "\n",
    "Encontramos a fórmula geral da recorrência $x_n = 4x_{n-1} + 3x_{n-2} - 14x_{n-3} -6x_{n-4}$ com termos\n",
    "iniciais $x_0 = x_1 = 4, x_2 = 22$ e $x_3 = 58$."
   ]
  },
  {
   "cell_type": "code",
   "execution_count": null,
   "metadata": {},
   "outputs": [],
   "source": [
    "a = (1+sqrt(2))                                                                                    \n",
    "b = (1-sqrt(2))                                                                                    \n",
    "c = (1+sqrt(7))                                                                                    \n",
    "d = (1-sqrt(7))                                                                                    \n",
    "\n",
    "f = (x-a)*(x-b)*(x-c)*(x-d)                                                                        \n",
    "\n",
    "expand(f)                                                                                  \n",
    "x_inicial = [4,a+b+c+d,a^2+b^2+c^2+d^2,a^3+b^3+c^3+d^3]\n",
    "\n",
    "# por recorrência\n",
    "def v(n):\n",
    "    global x_inicial\n",
    "    if n<=3:\n",
    "        return x_inicial[n]\n",
    "    else:\n",
    "        return 4*v(n-1)+3*v(n-2)-14*v(n-3)-6*v(n-4)\n",
    "[expand(v(n)) for n in [0..10]]\n",
    "\n",
    "# pela fórmula geral\n",
    "def vg(n):\n",
    "    global a,b,c,d,x_inicial\n",
    "    return a^n + b^n + c^n + d^n\n",
    "print([(expand(v(n)),expand(vg(n))) for n in [0..15]])\n",
    "\n",
    "var('n')\n",
    "show(a^n+b^n+c^n+d^n)\n",
    "\n"
   ]
  },
  {
   "cell_type": "code",
   "execution_count": 18,
   "metadata": {},
   "outputs": [
    {
     "data": {
      "text/html": [
       "<html><script type=\"math/tex; mode=display\">\\newcommand{\\Bold}[1]{\\mathbf{#1}}\\left[a_{1} + a_{2} + a_{3} + a_{4} = 1, a_{3} {\\left(\\sqrt{7} + 1\\right)} - a_{4} {\\left(\\sqrt{7} - 1\\right)} + a_{1} {\\left(\\sqrt{2} + 1\\right)} - a_{2} {\\left(\\sqrt{2} - 1\\right)} = \\left(-1\\right), a_{3} {\\left(\\sqrt{7} + 1\\right)}^{2} + a_{4} {\\left(\\sqrt{7} - 1\\right)}^{2} + a_{1} {\\left(\\sqrt{2} + 1\\right)}^{2} + a_{2} {\\left(\\sqrt{2} - 1\\right)}^{2} = 1, a_{3} {\\left(\\sqrt{7} + 1\\right)}^{3} - a_{4} {\\left(\\sqrt{7} - 1\\right)}^{3} + a_{1} {\\left(\\sqrt{2} + 1\\right)}^{3} - a_{2} {\\left(\\sqrt{2} - 1\\right)}^{3} = \\left(-1\\right)\\right]</script></html>"
      ],
      "text/plain": [
       "[a1 + a2 + a3 + a4 == 1,\n",
       " a3*(sqrt(7) + 1) - a4*(sqrt(7) - 1) + a1*(sqrt(2) + 1) - a2*(sqrt(2) - 1) == -1,\n",
       " a3*(sqrt(7) + 1)^2 + a4*(sqrt(7) - 1)^2 + a1*(sqrt(2) + 1)^2 + a2*(sqrt(2) - 1)^2 == 1,\n",
       " a3*(sqrt(7) + 1)^3 - a4*(sqrt(7) - 1)^3 + a1*(sqrt(2) + 1)^3 - a2*(sqrt(2) - 1)^3 == -1]"
      ]
     },
     "metadata": {},
     "output_type": "display_data"
    },
    {
     "name": "stdout",
     "output_type": "stream",
     "text": [
      "[(1, 1), (-1, -1), (1, 1), (-1, -1), (7, 7), (17, 17), (97, 97), (347, 347), (1399, 1399), (5177, 5177), (19465, 19465), (71723, 71723), (264415, 264415), (969257, 969257), (3549361, 3549361), (12973067, 12973067)]\n"
     ]
    }
   ],
   "source": [
    "a = (1+sqrt(2))                                                                                    \n",
    "b = (1-sqrt(2))                                                                                    \n",
    "c = (1+sqrt(7))                                                                                    \n",
    "d = (1-sqrt(7))                                                                                    \n",
    "f = (x-a)*(x-b)*(x-c)*(x-d)\n",
    "\n",
    "\"\"\"\n",
    "CASO GERAL:\n",
    "construir o polinômio através dos coeficientes\n",
    "de recorrência da sequência e chamar de a,b,c\n",
    "e d suas raízes\n",
    "\"\"\"\n",
    "\n",
    "x_inicial = [1,-1,1,-1]\n",
    "var('a1,a2,a3,a4')\n",
    "eqs = [\n",
    "    a1+a2+a3+a4 == x_inicial[0],\n",
    "    a1*a + a2*b+a3*c+a4*d ==  x_inicial[1],\n",
    "    a1*a^2 + a2*b^2+a3*c^2+a4*d^2 ==  x_inicial[2],\n",
    "    a1*a^3 + a2*b^3+a3*c^3+a4*d^3 ==  x_inicial[3],\n",
    "]\n",
    "show(eqs)\n",
    "s = solve(eqs,a1,a2,a3,a4)\n",
    "coef = [s[0][i].rhs() for i in [0..3]]\n",
    "\n",
    "# por recorrência\n",
    "def v(n):\n",
    "    global x_inicial\n",
    "    if n<=3:\n",
    "        return x_inicial[n]\n",
    "    else:\n",
    "        return 4*v(n-1)+3*v(n-2)-14*v(n-3)-6*v(n-4)\n",
    "\n",
    "# pela fórmula geral\n",
    "def vg(n):\n",
    "    global a,b,c,d,coef\n",
    "    return coef[0]*a^n + coef[1]*b^n + coef[2]*c^n + coef[3]*d^n\n",
    "\n",
    "\n",
    "print([(expand(v(n)),expand(vg(n))) for n in [0..15]])"
   ]
  },
  {
   "cell_type": "markdown",
   "metadata": {},
   "source": [
    "# Primos"
   ]
  },
  {
   "cell_type": "code",
   "execution_count": 19,
   "metadata": {
    "scrolled": true
   },
   "outputs": [
    {
     "ename": "NameError",
     "evalue": "name 'l' is not defined",
     "output_type": "error",
     "traceback": [
      "\u001b[1;31m---------------------------------------------------------------------------\u001b[0m",
      "\u001b[1;31mNameError\u001b[0m                                 Traceback (most recent call last)",
      "\u001b[1;32m<ipython-input-19-628ceaa0bdb0>\u001b[0m in \u001b[0;36m<module>\u001b[1;34m\u001b[0m\n\u001b[0;32m      1\u001b[0m \u001b[1;31m#l = [[10^i,prime_pi(10^i),RR(10^i/log(10^i)),prime_pi(10^i)/RR(10^i/log(10^i))] for i in range(1,14)]\u001b[0m\u001b[1;33m\u001b[0m\u001b[1;33m\u001b[0m\u001b[1;33m\u001b[0m\u001b[0m\n\u001b[0;32m      2\u001b[0m \u001b[1;32mfor\u001b[0m \u001b[0mi\u001b[0m \u001b[1;32min\u001b[0m \u001b[0mrange\u001b[0m\u001b[1;33m(\u001b[0m\u001b[0mInteger\u001b[0m\u001b[1;33m(\u001b[0m\u001b[1;36m14\u001b[0m\u001b[1;33m)\u001b[0m\u001b[1;33m)\u001b[0m\u001b[1;33m:\u001b[0m\u001b[1;33m\u001b[0m\u001b[1;33m\u001b[0m\u001b[0m\n\u001b[1;32m----> 3\u001b[1;33m     \u001b[0mprint\u001b[0m\u001b[1;33m(\u001b[0m\u001b[1;34m'10^{}  & {:d} & {:.2f} & {:.5f} \\\\\\\\'\u001b[0m\u001b[1;33m.\u001b[0m\u001b[0mformat\u001b[0m\u001b[1;33m(\u001b[0m\u001b[0mi\u001b[0m\u001b[1;33m+\u001b[0m\u001b[0mInteger\u001b[0m\u001b[1;33m(\u001b[0m\u001b[1;36m1\u001b[0m\u001b[1;33m)\u001b[0m\u001b[1;33m,\u001b[0m\u001b[0ml\u001b[0m\u001b[1;33m[\u001b[0m\u001b[0mi\u001b[0m\u001b[1;33m]\u001b[0m\u001b[1;33m[\u001b[0m\u001b[0mInteger\u001b[0m\u001b[1;33m(\u001b[0m\u001b[1;36m1\u001b[0m\u001b[1;33m)\u001b[0m\u001b[1;33m]\u001b[0m\u001b[1;33m,\u001b[0m\u001b[0mfloat\u001b[0m\u001b[1;33m(\u001b[0m\u001b[0ml\u001b[0m\u001b[1;33m[\u001b[0m\u001b[0mi\u001b[0m\u001b[1;33m]\u001b[0m\u001b[1;33m[\u001b[0m\u001b[0mInteger\u001b[0m\u001b[1;33m(\u001b[0m\u001b[1;36m2\u001b[0m\u001b[1;33m)\u001b[0m\u001b[1;33m]\u001b[0m\u001b[1;33m)\u001b[0m\u001b[1;33m,\u001b[0m\u001b[0mfloat\u001b[0m\u001b[1;33m(\u001b[0m\u001b[0ml\u001b[0m\u001b[1;33m[\u001b[0m\u001b[0mi\u001b[0m\u001b[1;33m]\u001b[0m\u001b[1;33m[\u001b[0m\u001b[0mInteger\u001b[0m\u001b[1;33m(\u001b[0m\u001b[1;36m3\u001b[0m\u001b[1;33m)\u001b[0m\u001b[1;33m]\u001b[0m\u001b[1;33m)\u001b[0m\u001b[1;33m)\u001b[0m\u001b[1;33m)\u001b[0m\u001b[1;33m\u001b[0m\u001b[1;33m\u001b[0m\u001b[0m\n\u001b[0m",
      "\u001b[1;31mNameError\u001b[0m: name 'l' is not defined"
     ]
    }
   ],
   "source": [
    "#l = [[10^i,prime_pi(10^i),RR(10^i/log(10^i)),prime_pi(10^i)/RR(10^i/log(10^i))] for i in range(1,14)]\n",
    "for i in range(14):\n",
    "    print('10^{}  & {:d} & {:.2f} & {:.5f} \\\\\\\\'.format(i+1,l[i][1],float(l[i][2]),float(l[i][3])))"
   ]
  },
  {
   "cell_type": "code",
   "execution_count": 20,
   "metadata": {},
   "outputs": [
    {
     "data": {
      "image/png": "[encoded data removed]",
      "text/plain": [
       "Graphics object consisting of 3 graphics primitives"
      ]
     },
     "execution_count": 20,
     "metadata": {},
     "output_type": "execute_result"
    }
   ],
   "source": [
    "def tnp(x):\n",
    "    return RR(x/log(x))\n",
    "def erro(x):\n",
    "    return prime_pi(x)/tnp(x)\n",
    "def erroli(x):\n",
    "    return prime_pi(x)/li(x)\n",
    "# plot(tnp,10,2000)+plot(prime_pi,10,2000)\n",
    "K = 10^4.5\n",
    "plot(erro,10,K) + plot(lambda x:1, 10, K)+plot(erroli,10,K)"
   ]
  },
  {
   "cell_type": "code",
   "execution_count": null,
   "metadata": {},
   "outputs": [],
   "source": [
    "# # n = 100\n",
    "# @interact(x = (50,20000,100))\n",
    "# def _(x=50):\n",
    "#     def bertrand(n):\n",
    "#         return prime_pi(2*n) - prime_pi(n)\n",
    "#     P = plot(bertrand,1,x)\n",
    "#     show(P)\n",
    "# # IntSlider(min=-10,max=30,step=1,value=10)\n",
    "@interact(x=(10,100))\n",
    "def pp(x):\n",
    "    P = plot(prime_pi,1,x)\n",
    "    show(P)"
   ]
  },
  {
   "cell_type": "markdown",
   "metadata": {},
   "source": [
    "## Algoritmo AKS\n",
    "\n",
    "Implementamos aqui o algoritmo AKS que verifica primalidade em tempo\n",
    "polinomial. Definimos primeiramente a função `is_perfect_power` que\n",
    "verifica se o inteiro em questão é uma potência perfeita. Usamos\n",
    "o fato que, se $n = a^b$, como $a\\geq 2$, $b \\leq \\log_2(n)$, \n",
    "caso contrário $a^b> 2^{\\log_2(n)}=n$. Assim, definindo\n",
    "$m=\\lfloor\\log_2(n)\\rfloor$, basta verificar se\n",
    "$\\left(\\sqrt[k]{n}\\right)^k = n$ para algum $k=2,\\dots,m$.\n",
    "\n",
    "\n",
    "`Exception (FLINT memory_manager). Unable to allocate memory.`\n",
    "na linha 48 (funciona para números pequenos). verificar forma\n",
    "mais eficiente de efetuar esse cálculo.\n"
   ]
  },
  {
   "cell_type": "code",
   "execution_count": 165,
   "metadata": {},
   "outputs": [
    {
     "name": "stdout",
     "output_type": "stream",
     "text": [
      "319\n",
      "teste 4\n",
      "teste 4\n",
      "teste 4\n",
      "teste 4\n",
      "teste final\n",
      "teste 4\n",
      "teste 4\n",
      "teste 4\n",
      "teste final\n",
      "teste 4\n",
      "teste 4\n",
      "teste 4\n",
      "teste 4\n",
      "teste 4\n",
      "teste 4\n",
      "teste 4\n",
      "teste final\n",
      "teste 4\n",
      "teste final\n",
      "teste 4\n",
      "teste 4\n",
      "teste 4\n",
      "teste 4\n",
      "teste final\n",
      "teste 4\n",
      "teste 4\n",
      "teste final\n",
      "teste 4\n",
      "teste 4\n",
      "teste final\n",
      "teste 4\n",
      "teste 4\n",
      "teste 4\n",
      "teste 4\n",
      "teste 4\n",
      "teste 4\n",
      "teste final\n",
      "teste 4\n",
      "teste 4\n",
      "teste 4\n",
      "teste 4\n",
      "teste 4\n",
      "teste 4\n",
      "teste 4\n",
      "teste 4\n",
      "teste final\n",
      "teste 4\n",
      "teste 4\n",
      "teste 4\n",
      "teste 4\n",
      "True\n"
     ]
    }
   ],
   "source": [
    "def is_perfect_power(n):\n",
    "#     m = 0\n",
    "#     while N(n/2^m) > 1:\n",
    "#         m+=1\n",
    "#     print(m,floor(log(n,base=2)))\n",
    "    m = floor(log(n,base=2))\n",
    "#     print(m)\n",
    "    for i in [2..(m)]:\n",
    "        if floor(N(n^(1/i)))^i == n:\n",
    "#             print(\"n = \", (n^(1/i)), \"^\", i)\n",
    "            return True\n",
    "    return False\n",
    "\n",
    "def o(a,r):\n",
    "    if gcd(a,r) != 1:\n",
    "        return \"Erro: r e n nao coprimos\"\n",
    "    Zr = Zmod(r)\n",
    "    return a.multiplicative_order()\n",
    "\n",
    "perfect_power(2^123*3^124)\n",
    "\n",
    "def aks(n):\n",
    "    if is_perfect_power(n):\n",
    "        print(\"teste 1\")\n",
    "        return True\n",
    "    r = 2\n",
    "    if r.divides(n):\n",
    "        print(\"teste 1.1 (par)\")\n",
    "        return False\n",
    "    while o(r,n) < (log(n,base=2))^2: #só quero que essa linha seja executada se gcd(r.n) = 1\n",
    "        while gcd(r,n) > 1:\n",
    "            r += 1\n",
    "    \n",
    "    for a in [2..r]:\n",
    "        if gcd(a,n)<n and gcd(a,n)>1:\n",
    "            print(\"teste 2\")\n",
    "#             print(a,n)\n",
    "#             print(gcd(a,n))\n",
    "            return False\n",
    "    if n <= r:\n",
    "        print(\"teste 3\")\n",
    "        return True\n",
    "    Zn = Zmod(n)\n",
    "    Pn.<t> = Zn[]\n",
    "    P = QuotientRing(Pn,Pn.ideal(t^r - 1))\n",
    "    for a in [1..(floor(sqrt(euler_phi(r))*log(n,base=2)))]:\n",
    "#         print(n,r,a)\n",
    "        if P((t+a))^n != P(t^n+a):\n",
    "            print(\"teste 4\")\n",
    "            return False\n",
    "    print(\"teste final\")\n",
    "    return True\n",
    "\n",
    "cand = [random_prime(10^5,lbound=10^4)+2 for i in [1..50]]\n",
    "\n",
    "print(all([aks(n)==is_prime(n) for n in cand]))\n",
    "    "
   ]
  },
  {
   "cell_type": "markdown",
   "metadata": {},
   "source": [
    "### Funções Aritméticas"
   ]
  },
  {
   "cell_type": "code",
   "execution_count": 28,
   "metadata": {},
   "outputs": [
    {
     "name": "stdout",
     "output_type": "stream",
     "text": [
      "psi(16) =  24\n",
      "psi(22) =  Erro: 22 não é potência de primo\n"
     ]
    }
   ],
   "source": [
    "def psi_pp(n):\n",
    "    fatoracao = factor(n)\n",
    "    if len(fatoracao) != 1:\n",
    "        return \"Erro: {} não é potência de primo\".format(n)\n",
    "    p = fatoracao[0][0]\n",
    "    e = fatoracao[0][1]\n",
    "    return p^e + p^(e-1)\n",
    "    \n",
    "print(\"psi(16) = \", psi_pp(16))\n",
    "print(\"psi(22) = \", psi_pp(22))"
   ]
  },
  {
   "cell_type": "code",
   "execution_count": 58,
   "metadata": {},
   "outputs": [
    {
     "data": {
      "image/png": "[encoded data removed]",
      "text/plain": [
       "Graphics object consisting of 1 graphics primitive"
      ]
     },
     "execution_count": 58,
     "metadata": {},
     "output_type": "execute_result"
    }
   ],
   "source": [
    "def psi(n):\n",
    "    if n <= 0:\n",
    "        return \"Erro: n deve ser positivo\"\n",
    "    if n == 1:\n",
    "        return 1\n",
    "    fatoracao = factor(n)\n",
    "    total = prod([psi_pp(p^e) for (p,e) in fatoracao])\n",
    "    return total\n",
    "\n",
    "# A = list_plot([(i,psi(i)) for i in [1..100]])\n",
    "plot(lambda x:euler_phi(floor(x))/x,1,100,color='red')\n"
   ]
  },
  {
   "cell_type": "markdown",
   "metadata": {},
   "source": [
    "# Congruências"
   ]
  },
  {
   "cell_type": "code",
   "execution_count": null,
   "metadata": {},
   "outputs": [],
   "source": [
    "Z10 = Zmod(14.next_prime())\n",
    "a = Z10(3)\n",
    "a.multiplicative_order()\n",
    "matrix_plot([[i*j for i in Z10] for j in Z10],cmap='jet',colorbar=True)"
   ]
  },
  {
   "cell_type": "code",
   "execution_count": null,
   "metadata": {},
   "outputs": [],
   "source": [
    "print(Z10.addition_table(names='digits'))\n",
    "print(Z10.multiplication_table(names='digits'))\n"
   ]
  },
  {
   "cell_type": "markdown",
   "metadata": {},
   "source": [
    "# Equações diofantinas\n",
    "\n",
    "### A equação $aX + bY = c$"
   ]
  },
  {
   "cell_type": "code",
   "execution_count": 23,
   "metadata": {},
   "outputs": [
    {
     "name": "stdout",
     "output_type": "stream",
     "text": [
      "408209781 -540367170\n",
      "8484 8484\n"
     ]
    }
   ],
   "source": [
    "def dioflin(a,b,c):\n",
    "    if a == 0 and b == 0:\n",
    "        return \"a e b ambos nulos\"\n",
    "    (d,xt,yt) = xgcd(a,b)\n",
    "    if not d.divides(c):\n",
    "        return \"mdc(a,b) não divide c. A eq. não possui solução\"\n",
    "    sol = (c/d*xt,c/d*yt)\n",
    "    return sol\n",
    "    \n",
    "\n",
    "(a,b,c) = (6841684,5168416,8484)\n",
    "(x,y) = dioflin(a,b,c)\n",
    "print(x,y)\n",
    "print(x*a+y*b, c)\n"
   ]
  },
  {
   "cell_type": "markdown",
   "metadata": {},
   "source": [
    "***\n",
    "# Lixo"
   ]
  },
  {
   "cell_type": "code",
   "execution_count": 41,
   "metadata": {},
   "outputs": [
    {
     "name": "stdout",
     "output_type": "stream",
     "text": [
      "2.71828182845905\n",
      "Real Field with 100 bits of precision\n",
      "2.7182818284590452353602874714\n"
     ]
    },
    {
     "data": {
      "image/png": "[encoded data removed]",
      "text/plain": [
       "Graphics object consisting of 1 graphics primitive"
      ]
     },
     "execution_count": 41,
     "metadata": {},
     "output_type": "execute_result"
    }
   ],
   "source": [
    "# x = var('x')\n",
    "# eqn =  x^3 + sqrt(2)*x + 5 == 0\n",
    "# a = solve(eqn, x)[0].rhs()\n",
    "# pretty_print(a)\n",
    "# show(continued_fraction(pi))\n",
    "# A = matrix(3,3,{(0,0):1})\n",
    "# show(A)\n",
    "print(RR(e))\n",
    "RR100 = RealField(prec=100)\n",
    "print(RR100)\n",
    "print(RR100(e))\n",
    "p = next_prime(10)\n",
    "matrix_plot([[mod(i^j,p) for i in range(p)] for j in range(p)],cmap='jet')\n",
    "\n"
   ]
  },
  {
   "cell_type": "code",
   "execution_count": null,
   "metadata": {},
   "outputs": [],
   "source": []
  }
 ],
 "metadata": {
  "kernelspec": {
   "display_name": "SageMath 9.0",
   "language": "sage",
   "name": "sagemath"
  },
  "language_info": {
   "codemirror_mode": {
    "name": "ipython",
    "version": 3
   },
   "file_extension": ".py",
   "mimetype": "text/x-python",
   "name": "python",
   "nbconvert_exporter": "python",
   "pygments_lexer": "ipython3",
   "version": "3.8.5"
  },
  "widgets": {
   "application/vnd.jupyter.widget-state+json": {
    "state": {},
    "version_major": 1,
    "version_minor": 0
   }
  }
 },
 "nbformat": 4,
 "nbformat_minor": 4
}
